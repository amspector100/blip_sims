{
 "cells": [
  {
   "cell_type": "code",
   "execution_count": 1,
   "metadata": {},
   "outputs": [],
   "source": [
    "import sys\n",
    "import os\n",
    "\n",
    "file_path = os.getcwd()\n",
    "parent_dir = os.path.split(file_path)[0]\n",
    "sys.path.insert(0, parent_dir + \"/hpt/\")\n",
    "sys.path.insert(0, parent_dir + \"/knockpy/\")\n",
    "import hpt"
   ]
  },
  {
   "cell_type": "code",
   "execution_count": 2,
   "metadata": {},
   "outputs": [],
   "source": [
    "import numpy as np\n",
    "import pandas as pd\n",
    "import matplotlib.pyplot as plt\n",
    "import seaborn as sns\n",
    "from plotnine import *\n",
    "\n",
    "import knockpy"
   ]
  },
  {
   "cell_type": "code",
   "execution_count": 126,
   "metadata": {},
   "outputs": [],
   "source": [
    "def calc_mean_sem(data, group_vals, meas):\n",
    "    \"\"\"\n",
    "    Groups data by group_vals and then calculates mean, standard error\n",
    "    for each column.\n",
    "    \"\"\"\n",
    "    agg_df = data.groupby(group_vals)[meas].agg(['mean', 'sem']).reset_index()\n",
    "    for m in meas:\n",
    "        agg_df[f'{m}_mean'] = agg_df[m]['mean']\n",
    "        agg_df[f'{m}_se'] = agg_df[m]['sem']\n",
    "        agg_df[f'{m}_ymin'] =  np.maximum(0, agg_df[f'{m}_mean'] - 2*agg_df[f'{m}_se'])\n",
    "        agg_df[f'{m}_ymax'] =  agg_df[f'{m}_mean'] + 2*agg_df[f'{m}_se']\n",
    "    \n",
    "    return agg_df.loc[:, agg_df.columns.get_level_values(1) == '']"
   ]
  },
  {
   "cell_type": "markdown",
   "metadata": {},
   "source": [
    "## 2.2 Example plots"
   ]
  },
  {
   "cell_type": "markdown",
   "metadata": {},
   "source": [
    "### 2.2.1 Changepoint example"
   ]
  },
  {
   "cell_type": "code",
   "execution_count": 19,
   "metadata": {},
   "outputs": [],
   "source": [
    "# Generate data\n",
    "np.random.seed(123) # original good one\n",
    "T = 100\n",
    "delta = 0.75 # original: 1.75\n",
    "X = np.arange(T)\n",
    "Y = np.random.randn(T)\n",
    "Y[int(T/2):] += delta\n",
    "mu = np.zeros(T)\n",
    "mu[int(T/2):] += delta"
   ]
  },
  {
   "cell_type": "code",
   "execution_count": 15,
   "metadata": {},
   "outputs": [],
   "source": [
    "# # Plot #1\n",
    "# df = pd.DataFrame()\n",
    "# df['X'] = X\n",
    "# df['Y'] = Y\n",
    "# fig, ax = plt.subplots(figsize=(3,2))\n",
    "# ax = sns.regplot(\n",
    "#     ax=ax,\n",
    "#     data=df, \n",
    "#     x='X', \n",
    "#     y='Y', \n",
    "#     color='#6495ED',\n",
    "#     label='Y',\n",
    "#     line_kws={'color':'seagreen'},\n",
    "# )\n",
    "# #ax = lmplot.axes[0, 0]\n",
    "# ax.plot(X[0:int(T/2)], mu[0:int(T/2)],\n",
    "#     color='red',\n",
    "#     label='True mean',\n",
    "#     linestyle='dashed'\n",
    "# )\n",
    "# ax.plot(X[int(T/2):], mu[int(T/2):],\n",
    "#     color='red',\n",
    "#     linestyle='dashed'\n",
    "# )\n",
    "# ax.set(xlabel='t', ylabel='Y')\n",
    "# ax.legend()\n",
    "# #plt.savefig(\"final-plots/changepoint_example.png\", dpi=500)"
   ]
  },
  {
   "cell_type": "code",
   "execution_count": 35,
   "metadata": {},
   "outputs": [
    {
     "data": {
      "image/png": "[encoded data removed]",
      "text/plain": [
       "<Figure size 216x144 with 1 Axes>"
      ]
     },
     "metadata": {
      "needs_background": "light"
     },
     "output_type": "display_data"
    }
   ],
   "source": [
    "# Plot #2\n",
    "fig, ax = plt.subplots(figsize=(3,2))\n",
    "ax.scatter(X, Y, label='Y', color='#6495ED')\n",
    "ax.plot(X[0:int(T/2)], mu[0:int(T/2)],\n",
    "    color='red',\n",
    "    label='True mean',\n",
    "    linestyle='dotted'\n",
    ")\n",
    "ax.plot(X[int(T/2):], mu[int(T/2):],\n",
    "    color='red',\n",
    "    linestyle='dotted'\n",
    ")\n",
    "ax.set(ylabel='Y', xlabel='t')\n",
    "ax.set_ylim(-2, 5)\n",
    "ax.legend(loc=(2), prop={'size': 8})\n",
    "#plt.show()\n",
    "plt.savefig(\"final-plots/changepoint_example.png\", dpi=500)"
   ]
  },
  {
   "cell_type": "markdown",
   "metadata": {},
   "source": [
    "### 2.2.2 Astro Example"
   ]
  },
  {
   "cell_type": "code",
   "execution_count": 258,
   "metadata": {},
   "outputs": [
    {
     "data": {
      "image/png": "[encoded data removed]",
      "text/plain": [
       "<Figure size 216x144 with 2 Axes>"
      ]
     },
     "metadata": {
      "needs_background": "light"
     },
     "output_type": "display_data"
    }
   ],
   "source": [
    "import scipy.signal \n",
    "\n",
    "# Create x, y\n",
    "p = 10\n",
    "z = np.zeros((p, p))\n",
    "x = np.arange(p).reshape(-1, 1)\n",
    "x = np.repeat(x, p, axis=1)\n",
    "y = x.T\n",
    "\n",
    "# Create point sources\n",
    "np.random.seed(110)\n",
    "# k = 15\n",
    "# xsource = 10*np.random.uniform(size=(k,))\n",
    "# ysource = 10*np.random.uniform(size=(k,))\n",
    "# magsource = 20 + np.abs(10*np.random.randn(k))\n",
    "\n",
    "\n",
    "xsource = [0.5, 8.25, 5.234, 5.5398, 3.234097]\n",
    "ysource = [0.25, 2, 8.357098, 9.12309, 6.2509]\n",
    "magsource = [50, 100, 35, 25, 83]\n",
    "\n",
    "# Create means \n",
    "mu = z.copy()\n",
    "for (i, j, mag) in zip(xsource, ysource, magsource):\n",
    "    d = np.sqrt(np.power(i-x-0.5, 2) + np.power(j-y-0.5,2))\n",
    "    mu += mag * np.exp(-1*d)\n",
    "\n",
    "\n",
    "# Create data\n",
    "D = np.sqrt(mu) * np.random.randn(p, p) + mu #3*np.random.randn(p, p) + mu\n",
    "\n",
    "# Plot\n",
    "fig, ax = plt.subplots(figsize=(3,2))\n",
    "ax = sns.heatmap(D, cmap='Greys', ax=ax)\n",
    "ax.scatter(ysource, xsource, color='red', marker='x', label='True Sources')\n",
    "#ax.legend(bbox_to_anchor=(1.1, 1.3))\n",
    "plt.savefig(\"final-plots/astro_example.png\", dpi=500)"
   ]
  },
  {
   "cell_type": "markdown",
   "metadata": {},
   "source": [
    "## 2.3 Integer-relaxation plots"
   ]
  },
  {
   "cell_type": "code",
   "execution_count": 137,
   "metadata": {},
   "outputs": [],
   "source": [
    "import numpy as np\n",
    "import pandas as pd\n",
    "from plotnine import *\n",
    "\n",
    "day = '2021-11-09'\n",
    "t = '00-20-38' \n",
    "\n",
    "data = pd.read_csv(f\"data/lp_int_sol/{day}/{t}/results.csv\")"
   ]
  },
  {
   "cell_type": "code",
   "execution_count": 180,
   "metadata": {},
   "outputs": [],
   "source": [
    "id_vars = ['kappa', 'p', 'sparsity', 'covmethod']\n",
    "#cov_dict = {'ar1':'AR1', 'ver':'ErdosRenyi (Cov.)', 'qer':'ErdosRenyi (Prec.)'}\n",
    "cov_dict = {'ar1':'AR1', 'ver':'VER', 'qer':'QER'}"
   ]
  },
  {
   "cell_type": "markdown",
   "metadata": {},
   "source": [
    "### Averages of number of randomized pairs/singletons"
   ]
  },
  {
   "cell_type": "code",
   "execution_count": 182,
   "metadata": {},
   "outputs": [
    {
     "data": {
      "text/html": [
       "<div>\n",
       "<style scoped>\n",
       "    .dataframe tbody tr th:only-of-type {\n",
       "        vertical-align: middle;\n",
       "    }\n",
       "\n",
       "    .dataframe tbody tr th {\n",
       "        vertical-align: top;\n",
       "    }\n",
       "\n",
       "    .dataframe thead th {\n",
       "        text-align: right;\n",
       "    }\n",
       "</style>\n",
       "<table border=\"1\" class=\"dataframe\">\n",
       "  <thead>\n",
       "    <tr style=\"text-align: right;\">\n",
       "      <th></th>\n",
       "      <th>kappa</th>\n",
       "      <th>p</th>\n",
       "      <th>sparsity</th>\n",
       "      <th>covmethod</th>\n",
       "      <th>variable</th>\n",
       "      <th>value</th>\n",
       "    </tr>\n",
       "  </thead>\n",
       "  <tbody>\n",
       "    <tr>\n",
       "      <th>0</th>\n",
       "      <td>0.05</td>\n",
       "      <td>1000</td>\n",
       "      <td>0.05</td>\n",
       "      <td>ar1</td>\n",
       "      <td>n_rand_pairs</td>\n",
       "      <td>1</td>\n",
       "    </tr>\n",
       "    <tr>\n",
       "      <th>1</th>\n",
       "      <td>0.05</td>\n",
       "      <td>1000</td>\n",
       "      <td>0.05</td>\n",
       "      <td>ar1</td>\n",
       "      <td>n_rand_pairs</td>\n",
       "      <td>0</td>\n",
       "    </tr>\n",
       "    <tr>\n",
       "      <th>2</th>\n",
       "      <td>0.05</td>\n",
       "      <td>1000</td>\n",
       "      <td>0.05</td>\n",
       "      <td>ar1</td>\n",
       "      <td>n_rand_pairs</td>\n",
       "      <td>0</td>\n",
       "    </tr>\n",
       "    <tr>\n",
       "      <th>3</th>\n",
       "      <td>0.05</td>\n",
       "      <td>1000</td>\n",
       "      <td>0.05</td>\n",
       "      <td>ar1</td>\n",
       "      <td>n_rand_pairs</td>\n",
       "      <td>1</td>\n",
       "    </tr>\n",
       "    <tr>\n",
       "      <th>4</th>\n",
       "      <td>0.05</td>\n",
       "      <td>1000</td>\n",
       "      <td>0.05</td>\n",
       "      <td>ar1</td>\n",
       "      <td>n_rand_pairs</td>\n",
       "      <td>1</td>\n",
       "    </tr>\n",
       "    <tr>\n",
       "      <th>...</th>\n",
       "      <td>...</td>\n",
       "      <td>...</td>\n",
       "      <td>...</td>\n",
       "      <td>...</td>\n",
       "      <td>...</td>\n",
       "      <td>...</td>\n",
       "    </tr>\n",
       "    <tr>\n",
       "      <th>475</th>\n",
       "      <td>1.00</td>\n",
       "      <td>1000</td>\n",
       "      <td>0.05</td>\n",
       "      <td>qer</td>\n",
       "      <td>n_singleton</td>\n",
       "      <td>0</td>\n",
       "    </tr>\n",
       "    <tr>\n",
       "      <th>476</th>\n",
       "      <td>1.00</td>\n",
       "      <td>1000</td>\n",
       "      <td>0.05</td>\n",
       "      <td>qer</td>\n",
       "      <td>n_singleton</td>\n",
       "      <td>0</td>\n",
       "    </tr>\n",
       "    <tr>\n",
       "      <th>477</th>\n",
       "      <td>1.00</td>\n",
       "      <td>1000</td>\n",
       "      <td>0.05</td>\n",
       "      <td>qer</td>\n",
       "      <td>n_singleton</td>\n",
       "      <td>0</td>\n",
       "    </tr>\n",
       "    <tr>\n",
       "      <th>478</th>\n",
       "      <td>1.00</td>\n",
       "      <td>1000</td>\n",
       "      <td>0.05</td>\n",
       "      <td>qer</td>\n",
       "      <td>n_singleton</td>\n",
       "      <td>0</td>\n",
       "    </tr>\n",
       "    <tr>\n",
       "      <th>479</th>\n",
       "      <td>1.00</td>\n",
       "      <td>1000</td>\n",
       "      <td>0.05</td>\n",
       "      <td>qer</td>\n",
       "      <td>n_singleton</td>\n",
       "      <td>0</td>\n",
       "    </tr>\n",
       "  </tbody>\n",
       "</table>\n",
       "<p>480 rows × 6 columns</p>\n",
       "</div>"
      ],
      "text/plain": [
       "     kappa     p  sparsity covmethod      variable  value\n",
       "0     0.05  1000      0.05       ar1  n_rand_pairs      1\n",
       "1     0.05  1000      0.05       ar1  n_rand_pairs      0\n",
       "2     0.05  1000      0.05       ar1  n_rand_pairs      0\n",
       "3     0.05  1000      0.05       ar1  n_rand_pairs      1\n",
       "4     0.05  1000      0.05       ar1  n_rand_pairs      1\n",
       "..     ...   ...       ...       ...           ...    ...\n",
       "475   1.00  1000      0.05       qer   n_singleton      0\n",
       "476   1.00  1000      0.05       qer   n_singleton      0\n",
       "477   1.00  1000      0.05       qer   n_singleton      0\n",
       "478   1.00  1000      0.05       qer   n_singleton      0\n",
       "479   1.00  1000      0.05       qer   n_singleton      0\n",
       "\n",
       "[480 rows x 6 columns]"
      ]
     },
     "execution_count": 182,
     "metadata": {},
     "output_type": "execute_result"
    }
   ],
   "source": [
    "\n",
    "mdata = pd.melt(\n",
    "    data[id_vars + ['n_rand_pairs', 'n_singleton']],\n",
    "    id_vars=id_vars,\n",
    "    var_name='variable',\n",
    "    value_name='value'\n",
    ")"
   ]
  },
  {
   "cell_type": "markdown",
   "metadata": {},
   "source": [
    "### Averages of objective function"
   ]
  },
  {
   "cell_type": "code",
   "execution_count": 171,
   "metadata": {},
   "outputs": [
    {
     "data": {
      "text/html": [
       "<div>\n",
       "<style scoped>\n",
       "    .dataframe tbody tr th:only-of-type {\n",
       "        vertical-align: middle;\n",
       "    }\n",
       "\n",
       "    .dataframe tbody tr th {\n",
       "        vertical-align: top;\n",
       "    }\n",
       "\n",
       "    .dataframe thead tr th {\n",
       "        text-align: left;\n",
       "    }\n",
       "</style>\n",
       "<table border=\"1\" class=\"dataframe\">\n",
       "  <thead>\n",
       "    <tr>\n",
       "      <th></th>\n",
       "      <th>kappa</th>\n",
       "      <th>p</th>\n",
       "      <th>sparsity</th>\n",
       "      <th>covmethod</th>\n",
       "      <th>measurement</th>\n",
       "      <th>value_mean</th>\n",
       "      <th>value_se</th>\n",
       "      <th>value_ymin</th>\n",
       "      <th>value_ymax</th>\n",
       "    </tr>\n",
       "    <tr>\n",
       "      <th></th>\n",
       "      <th></th>\n",
       "      <th></th>\n",
       "      <th></th>\n",
       "      <th></th>\n",
       "      <th></th>\n",
       "      <th></th>\n",
       "      <th></th>\n",
       "      <th></th>\n",
       "      <th></th>\n",
       "    </tr>\n",
       "  </thead>\n",
       "  <tbody>\n",
       "    <tr>\n",
       "      <th>0</th>\n",
       "      <td>0.05</td>\n",
       "      <td>1000</td>\n",
       "      <td>0.05</td>\n",
       "      <td>AR1</td>\n",
       "      <td>LP + iLP</td>\n",
       "      <td>0.307460</td>\n",
       "      <td>0.091232</td>\n",
       "      <td>0.124995</td>\n",
       "      <td>0.489924</td>\n",
       "    </tr>\n",
       "    <tr>\n",
       "      <th>1</th>\n",
       "      <td>0.05</td>\n",
       "      <td>1000</td>\n",
       "      <td>0.05</td>\n",
       "      <td>AR1</td>\n",
       "      <td>Relaxed LP</td>\n",
       "      <td>0.424222</td>\n",
       "      <td>0.075052</td>\n",
       "      <td>0.274118</td>\n",
       "      <td>0.574327</td>\n",
       "    </tr>\n",
       "    <tr>\n",
       "      <th>2</th>\n",
       "      <td>0.05</td>\n",
       "      <td>1000</td>\n",
       "      <td>0.05</td>\n",
       "      <td>AR1</td>\n",
       "      <td>LP + sampling</td>\n",
       "      <td>0.399667</td>\n",
       "      <td>0.087356</td>\n",
       "      <td>0.224955</td>\n",
       "      <td>0.574380</td>\n",
       "    </tr>\n",
       "    <tr>\n",
       "      <th>3</th>\n",
       "      <td>0.05</td>\n",
       "      <td>1000</td>\n",
       "      <td>0.05</td>\n",
       "      <td>QER</td>\n",
       "      <td>LP + iLP</td>\n",
       "      <td>0.553791</td>\n",
       "      <td>0.147286</td>\n",
       "      <td>0.259219</td>\n",
       "      <td>0.848363</td>\n",
       "    </tr>\n",
       "    <tr>\n",
       "      <th>4</th>\n",
       "      <td>0.05</td>\n",
       "      <td>1000</td>\n",
       "      <td>0.05</td>\n",
       "      <td>QER</td>\n",
       "      <td>Relaxed LP</td>\n",
       "      <td>0.622845</td>\n",
       "      <td>0.137031</td>\n",
       "      <td>0.348782</td>\n",
       "      <td>0.896907</td>\n",
       "    </tr>\n",
       "  </tbody>\n",
       "</table>\n",
       "</div>"
      ],
      "text/plain": [
       "  kappa     p sparsity covmethod    measurement value_mean  value_se  \\\n",
       "                                                                       \n",
       "0  0.05  1000     0.05       AR1       LP + iLP   0.307460  0.091232   \n",
       "1  0.05  1000     0.05       AR1     Relaxed LP   0.424222  0.075052   \n",
       "2  0.05  1000     0.05       AR1  LP + sampling   0.399667  0.087356   \n",
       "3  0.05  1000     0.05       QER       LP + iLP   0.553791  0.147286   \n",
       "4  0.05  1000     0.05       QER     Relaxed LP   0.622845  0.137031   \n",
       "\n",
       "  value_ymin value_ymax  \n",
       "                         \n",
       "0   0.124995   0.489924  \n",
       "1   0.274118   0.574327  \n",
       "2   0.224955   0.574380  \n",
       "3   0.259219   0.848363  \n",
       "4   0.348782   0.896907  "
      ]
     },
     "execution_count": 171,
     "metadata": {},
     "output_type": "execute_result"
    }
   ],
   "source": [
    "meas_dict = {\n",
    "    'epower_lp':'Relaxed LP',\n",
    "    'epower_ilp':'LP + iLP',\n",
    "    'epower_sample':'LP + sampling'\n",
    "}\n",
    "meas = list(meas_dict.keys())\n",
    "# melt\n",
    "mdata = pd.melt(\n",
    "    data[id_vars + meas],\n",
    "    id_vars=id_vars,\n",
    "    var_name='measurement',\n",
    "    value_name='value'\n",
    ")\n",
    "\n",
    "agg_df = calc_mean_sem(\n",
    "    mdata,\n",
    "    group_vals=id_vars + ['measurement'], \n",
    "    meas=['value']\n",
    ")\n",
    "agg_df['measurement'] = agg_df['measurement'].map(meas_dict)\n",
    "agg_df['covmethod'] = agg_df['covmethod'].map(cov_dict)\n",
    "agg_df.head()"
   ]
  },
  {
   "cell_type": "code",
   "execution_count": 179,
   "metadata": {},
   "outputs": [
    {
     "data": {
      "image/png": "[encoded data removed]",
      "text/plain": [
       "<Figure size 300x100 with 3 Axes>"
      ]
     },
     "metadata": {},
     "output_type": "display_data"
    },
    {
     "data": {
      "text/plain": [
       "<ggplot: (8753969167047)>"
      ]
     },
     "execution_count": 179,
     "metadata": {},
     "output_type": "execute_result"
    }
   ],
   "source": [
    "g = (\n",
    "    ggplot(\n",
    "        agg_df, aes(x='kappa', y='value_mean', color='measurement')\n",
    "    )\n",
    "    + geom_point(alpha=0.5)\n",
    "    + geom_line(alpha=0.5)\n",
    "    + geom_errorbar(aes(ymin=\"value_ymin\", ymax=\"value_ymax\"), width=0.01)\n",
    "    + facet_wrap(\"~covmethod\")\n",
    "    + labs(x=r'n / p', y='Objective', color='Method')\n",
    "    + theme(\n",
    "        figure_size=(3,1),\n",
    "        axis_text_x=element_text(angle=45)\n",
    "    )\n",
    "\n",
    ")\n",
    "g"
   ]
  },
  {
   "cell_type": "markdown",
   "metadata": {},
   "source": [
    "### Trying to show distribution, this is trickier"
   ]
  },
  {
   "cell_type": "code",
   "execution_count": 120,
   "metadata": {
    "scrolled": true
   },
   "outputs": [
    {
     "data": {
      "text/html": [
       "<div>\n",
       "<style scoped>\n",
       "    .dataframe tbody tr th:only-of-type {\n",
       "        vertical-align: middle;\n",
       "    }\n",
       "\n",
       "    .dataframe tbody tr th {\n",
       "        vertical-align: top;\n",
       "    }\n",
       "\n",
       "    .dataframe thead th {\n",
       "        text-align: right;\n",
       "    }\n",
       "</style>\n",
       "<table border=\"1\" class=\"dataframe\">\n",
       "  <thead>\n",
       "    <tr style=\"text-align: right;\">\n",
       "      <th></th>\n",
       "      <th>kappa</th>\n",
       "      <th>p</th>\n",
       "      <th>sparsity</th>\n",
       "      <th>covmethod</th>\n",
       "      <th>variable</th>\n",
       "      <th>num_nonzero</th>\n",
       "      <th>proportion</th>\n",
       "    </tr>\n",
       "  </thead>\n",
       "  <tbody>\n",
       "    <tr>\n",
       "      <th>0</th>\n",
       "      <td>0.05</td>\n",
       "      <td>1000</td>\n",
       "      <td>0.05</td>\n",
       "      <td>ar1</td>\n",
       "      <td>Randomized pairs</td>\n",
       "      <td>0</td>\n",
       "      <td>0.0625</td>\n",
       "    </tr>\n",
       "    <tr>\n",
       "      <th>1</th>\n",
       "      <td>0.05</td>\n",
       "      <td>1000</td>\n",
       "      <td>0.05</td>\n",
       "      <td>ar1</td>\n",
       "      <td>Randomized pairs</td>\n",
       "      <td>1</td>\n",
       "      <td>0.1250</td>\n",
       "    </tr>\n",
       "    <tr>\n",
       "      <th>2</th>\n",
       "      <td>0.05</td>\n",
       "      <td>1000</td>\n",
       "      <td>0.05</td>\n",
       "      <td>ar1</td>\n",
       "      <td>Randomized pairs</td>\n",
       "      <td>2</td>\n",
       "      <td>0.1875</td>\n",
       "    </tr>\n",
       "    <tr>\n",
       "      <th>3</th>\n",
       "      <td>0.05</td>\n",
       "      <td>1000</td>\n",
       "      <td>0.05</td>\n",
       "      <td>ar1</td>\n",
       "      <td>Singletons</td>\n",
       "      <td>0</td>\n",
       "      <td>0.2500</td>\n",
       "    </tr>\n",
       "    <tr>\n",
       "      <th>4</th>\n",
       "      <td>0.05</td>\n",
       "      <td>1000</td>\n",
       "      <td>0.05</td>\n",
       "      <td>ar1</td>\n",
       "      <td>Singletons</td>\n",
       "      <td>1</td>\n",
       "      <td>0.3125</td>\n",
       "    </tr>\n",
       "  </tbody>\n",
       "</table>\n",
       "</div>"
      ],
      "text/plain": [
       "   kappa     p  sparsity covmethod          variable  num_nonzero  proportion\n",
       "0   0.05  1000      0.05       ar1  Randomized pairs            0      0.0625\n",
       "1   0.05  1000      0.05       ar1  Randomized pairs            1      0.1250\n",
       "2   0.05  1000      0.05       ar1  Randomized pairs            2      0.1875\n",
       "3   0.05  1000      0.05       ar1        Singletons            0      0.2500\n",
       "4   0.05  1000      0.05       ar1        Singletons            1      0.3125"
      ]
     },
     "execution_count": 120,
     "metadata": {},
     "output_type": "execute_result"
    }
   ],
   "source": [
    "['kappa', 'p', 'sparsity', 'covmethod']id_vars = [\n",
    "    c for c in data.columns if c not in ['n_singleton', 'n_rand_pairs']\n",
    "]\n",
    "ndata = data.melt(\n",
    "    id_vars=id_vars,\n",
    "    value_name='num_nonzero'\n",
    ")\n",
    "# ndata['num_nonzero'] = ndata['num_nonzero'].astype(\n",
    "#     pd.api.types.CategoricalDtype(categories=ndata['num_nonzero'].unique())\n",
    "# )\n",
    "ndata['variable'] = ndata['variable'].map({\n",
    "    'n_singleton':'Singletons', 'n_rand_pairs':'Randomized pairs'\n",
    "})\n",
    "cdata = ndata.groupby(\n",
    "    ['kappa', 'p', 'sparsity', 'covmethod', 'variable', 'num_nonzero']\n",
    ")['seed'].count().reset_index()\n",
    "cdata['seed'] = data['seed'] / np.unique(data['seed'].values).shape[0]\n",
    "cdata = cdata.rename(columns=dict(seed='proportion'))\n",
    "cdata.head()"
   ]
  },
  {
   "cell_type": "code",
   "execution_count": 121,
   "metadata": {
    "scrolled": false
   },
   "outputs": [
    {
     "data": {
      "image/png": "[encoded data removed]",
      "text/plain": [
       "<Figure size 640x480 with 15 Axes>"
      ]
     },
     "metadata": {},
     "output_type": "display_data"
    },
    {
     "data": {
      "text/plain": [
       "<ggplot: (8754020407459)>"
      ]
     },
     "execution_count": 121,
     "metadata": {},
     "output_type": "execute_result"
    }
   ],
   "source": [
    "cdata['strkappa'] = np.around(cdata['kappa'], 2).astype(str)\n",
    "g = (\n",
    "    ggplot(\n",
    "        cdata, aes(x='num_nonzero', y='proportion', fill='variable')\n",
    "    )\n",
    "    + geom_col(position='dodge', color='black')\n",
    "    + facet_grid(\"strkappa~covmethod\", scales='free')\n",
    "    + scale_fill_manual(['blue','red'])\n",
    ")\n",
    "g"
   ]
  }
 ],
 "metadata": {
  "kernelspec": {
   "display_name": "Python 3.9",
   "language": "python",
   "name": "python3.9"
  },
  "language_info": {
   "codemirror_mode": {
    "name": "ipython",
    "version": 3
   },
   "file_extension": ".py",
   "mimetype": "text/x-python",
   "name": "python",
   "nbconvert_exporter": "python",
   "pygments_lexer": "ipython3",
   "version": "3.9.7"
  }
 },
 "nbformat": 4,
 "nbformat_minor": 2
}
